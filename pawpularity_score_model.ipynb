{
 "cells": [
  {
   "cell_type": "markdown",
   "id": "aee34fe4",
   "metadata": {},
   "source": [
    "# PetFinder.my: Pawpularity Prediction Project"
   ]
  },
  {
   "cell_type": "markdown",
   "id": "5335a0f5",
   "metadata": {},
   "source": [
    "## Overview\n",
    "\n",
    "### Executive Summary\n",
    "\n",
    "Millions of stray animals are euthanized or left homeless every year. Research shows that the visual appeal of pet images can significantly influence adoption rates. Currently, PetFinder.my, Malaysia’s leading animal welfare platform, utilizes a basic “Cuteness Meter” to score pet photos. However, this tool has limitations in both accuracy and feature diversity. \n",
    "\n",
    "In collaboration with Kaggle, this project aims to enhance PetFinder’s AI capabilities by developing a more advanced machine learning model to predict the \"Pawpularity\" score of pet images. The Pawpularity score measures the appeal of a photo, with higher scores potentially leading to faster adoptions. By improving the accuracy of these predictions, the project seeks to help animal shelters optimize their pet profiles, ultimately increasing adoption rates and reducing the number of stray animals.\n",
    "\n",
    "This initiative aligns perfectly with PetFinder.my’s mission of giving rescue animals a better chance at finding loving homes. By leveraging a rich dataset of raw images, the model will provide actionable recommendations to improve pet photo quality and composition, enhancing PetFinder's tools to support global animal welfare efforts.\n",
    "\n",
    "For more information about PetFinder.my, visit their [official website](https://www.petfinder.my/)."
   ]
  },
  {
   "cell_type": "markdown",
   "id": "be313f33",
   "metadata": {},
   "source": [
    "### Data Sources\n",
    "\n",
    "The dataset provided for this project consists of both images and tabular metadata related to pet profiles from PetFinder.my. The prediction of the Pawpularity score for each pet photo is influenced by various factors, such as composition, clarity, and the subject's focus in the image. The score will serve as the target variable in this project and reflects the overall appeal of a pet's profile based on user engagement, measured through page views and interactions. The score has been normalized across various platforms, excluding duplicate clicks, bot accesses, and sponsored profiles.\n",
    "\n",
    "- **Images**: Each pet photo is represented by a unique ID. These images are raw and represent the primary input data used to predict the Pawpularity score.\n",
    "- **Metadata**: In addition to the images, we are provided with manually labeled metadata that describes various aspects of each photo. These features include:\n",
    "  - **Focus**: Whether the pet stands out against an uncluttered background.\n",
    "  - **Eyes**: Whether both eyes are facing front and are clear.\n",
    "  - **Face**: Whether the face is clear and front-facing.\n",
    "  - **Near**: Whether the pet takes up a significant portion of the photo.\n",
    "  - **Action**: Whether the pet is in action.\n",
    "  - **Accessory**: Whether the pet is accompanied by accessories like toys.\n",
    "  - **Group**: Whether there are multiple pets in the photo.\n",
    "  - **Collage**: Whether the photo is a collage.\n",
    "  - **Human**: Whether a human is present in the photo.\n",
    "  - **Occlusion**: Whether an undesirable object is blocking part of the pet.\n",
    "  - **Info**: Whether custom-added text is present in the photo.\n",
    "  - **Blur**: Whether the photo is out of focus or noisy."
   ]
  }
 ],
 "metadata": {
  "kernelspec": {
   "display_name": "Python 3 (ipykernel)",
   "language": "python",
   "name": "python3"
  },
  "language_info": {
   "codemirror_mode": {
    "name": "ipython",
    "version": 3
   },
   "file_extension": ".py",
   "mimetype": "text/x-python",
   "name": "python",
   "nbconvert_exporter": "python",
   "pygments_lexer": "ipython3",
   "version": "3.9.7"
  }
 },
 "nbformat": 4,
 "nbformat_minor": 5
}
